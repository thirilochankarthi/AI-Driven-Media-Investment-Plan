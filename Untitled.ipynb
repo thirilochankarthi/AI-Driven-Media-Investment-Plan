{
 "cells": [
  {
   "cell_type": "markdown",
   "id": "0dbf0cf5-2d8c-4327-8e1a-16f7e5657de9",
   "metadata": {},
   "source": [
    "# Introduction\n",
    "\n",
    "The goal of this project is to optimize media budget allocation for various e-commerce channels using machine learning techniques. The problem involves reallocating a $200,000 budget across different paid media platforms (Google Ads, Meta Ads, Microsoft Ads) to maximize customer acquisition and conversion rates. We are provided with multiple datasets representing ad performance and website landings. Our solution involves processing these datasets, applying machine learning algorithms, and recommending the optimal budget distribution across the channels.\n"
   ]
  },
  {
   "cell_type": "code",
   "execution_count": 39,
   "id": "06d2d432-2b37-48c8-ac44-0ad9e2b4cfe9",
   "metadata": {},
   "outputs": [
    {
     "name": "stdout",
     "output_type": "stream",
     "text": [
      "Requirement already satisfied: pandas==2.1.3 in c:\\users\\thiri\\appdata\\local\\programs\\python\\python312\\lib\\site-packages (2.1.3)\n",
      "Requirement already satisfied: numpy<2,>=1.26.0 in c:\\users\\thiri\\appdata\\local\\programs\\python\\python312\\lib\\site-packages (from pandas==2.1.3) (1.26.2)\n",
      "Requirement already satisfied: python-dateutil>=2.8.2 in c:\\users\\thiri\\appdata\\local\\programs\\python\\python312\\lib\\site-packages (from pandas==2.1.3) (2.8.2)\n",
      "Requirement already satisfied: pytz>=2020.1 in c:\\users\\thiri\\appdata\\local\\programs\\python\\python312\\lib\\site-packages (from pandas==2.1.3) (2023.3.post1)\n",
      "Requirement already satisfied: tzdata>=2022.1 in c:\\users\\thiri\\appdata\\local\\programs\\python\\python312\\lib\\site-packages (from pandas==2.1.3) (2023.3)\n",
      "Requirement already satisfied: six>=1.5 in c:\\users\\thiri\\appdata\\local\\programs\\python\\python312\\lib\\site-packages (from python-dateutil>=2.8.2->pandas==2.1.3) (1.16.0)\n"
     ]
    },
    {
     "name": "stderr",
     "output_type": "stream",
     "text": [
      "\n",
      "[notice] A new release of pip is available: 24.0 -> 24.2\n",
      "[notice] To update, run: python.exe -m pip install --upgrade pip\n"
     ]
    },
    {
     "name": "stdout",
     "output_type": "stream",
     "text": [
      "Requirement already satisfied: scikit-learn==1.3.2 in c:\\users\\thiri\\appdata\\local\\programs\\python\\python312\\lib\\site-packages (1.3.2)\n",
      "Requirement already satisfied: numpy<2.0,>=1.17.3 in c:\\users\\thiri\\appdata\\local\\programs\\python\\python312\\lib\\site-packages (from scikit-learn==1.3.2) (1.26.2)\n",
      "Requirement already satisfied: scipy>=1.5.0 in c:\\users\\thiri\\appdata\\local\\programs\\python\\python312\\lib\\site-packages (from scikit-learn==1.3.2) (1.11.4)\n",
      "Requirement already satisfied: joblib>=1.1.1 in c:\\users\\thiri\\appdata\\local\\programs\\python\\python312\\lib\\site-packages (from scikit-learn==1.3.2) (1.3.2)\n",
      "Requirement already satisfied: threadpoolctl>=2.0.0 in c:\\users\\thiri\\appdata\\local\\programs\\python\\python312\\lib\\site-packages (from scikit-learn==1.3.2) (3.2.0)\n"
     ]
    },
    {
     "name": "stderr",
     "output_type": "stream",
     "text": [
      "\n",
      "[notice] A new release of pip is available: 24.0 -> 24.2\n",
      "[notice] To update, run: python.exe -m pip install --upgrade pip\n"
     ]
    },
    {
     "name": "stdout",
     "output_type": "stream",
     "text": [
      "Requirement already satisfied: matplotlib==3.8.2 in c:\\users\\thiri\\appdata\\local\\programs\\python\\python312\\lib\\site-packages (3.8.2)\n",
      "Requirement already satisfied: contourpy>=1.0.1 in c:\\users\\thiri\\appdata\\local\\programs\\python\\python312\\lib\\site-packages (from matplotlib==3.8.2) (1.2.0)\n",
      "Requirement already satisfied: cycler>=0.10 in c:\\users\\thiri\\appdata\\local\\programs\\python\\python312\\lib\\site-packages (from matplotlib==3.8.2) (0.12.1)\n",
      "Requirement already satisfied: fonttools>=4.22.0 in c:\\users\\thiri\\appdata\\local\\programs\\python\\python312\\lib\\site-packages (from matplotlib==3.8.2) (4.45.1)\n",
      "Requirement already satisfied: kiwisolver>=1.3.1 in c:\\users\\thiri\\appdata\\local\\programs\\python\\python312\\lib\\site-packages (from matplotlib==3.8.2) (1.4.5)\n",
      "Requirement already satisfied: numpy<2,>=1.21 in c:\\users\\thiri\\appdata\\local\\programs\\python\\python312\\lib\\site-packages (from matplotlib==3.8.2) (1.26.2)\n",
      "Requirement already satisfied: packaging>=20.0 in c:\\users\\thiri\\appdata\\local\\programs\\python\\python312\\lib\\site-packages (from matplotlib==3.8.2) (23.2)\n",
      "Requirement already satisfied: pillow>=8 in c:\\users\\thiri\\appdata\\local\\programs\\python\\python312\\lib\\site-packages (from matplotlib==3.8.2) (10.1.0)\n",
      "Requirement already satisfied: pyparsing>=2.3.1 in c:\\users\\thiri\\appdata\\local\\programs\\python\\python312\\lib\\site-packages (from matplotlib==3.8.2) (3.1.1)\n",
      "Requirement already satisfied: python-dateutil>=2.7 in c:\\users\\thiri\\appdata\\local\\programs\\python\\python312\\lib\\site-packages (from matplotlib==3.8.2) (2.8.2)\n",
      "Requirement already satisfied: six>=1.5 in c:\\users\\thiri\\appdata\\local\\programs\\python\\python312\\lib\\site-packages (from python-dateutil>=2.7->matplotlib==3.8.2) (1.16.0)\n"
     ]
    },
    {
     "name": "stderr",
     "output_type": "stream",
     "text": [
      "\n",
      "[notice] A new release of pip is available: 24.0 -> 24.2\n",
      "[notice] To update, run: python.exe -m pip install --upgrade pip\n"
     ]
    },
    {
     "name": "stdout",
     "output_type": "stream",
     "text": [
      "Requirement already satisfied: numpy==1.26.2 in c:\\users\\thiri\\appdata\\local\\programs\\python\\python312\\lib\\site-packages (1.26.2)\n"
     ]
    },
    {
     "name": "stderr",
     "output_type": "stream",
     "text": [
      "\n",
      "[notice] A new release of pip is available: 24.0 -> 24.2\n",
      "[notice] To update, run: python.exe -m pip install --upgrade pip\n"
     ]
    },
    {
     "name": "stdout",
     "output_type": "stream",
     "text": [
      "Requirement already satisfied: seaborn==0.11.2 in c:\\users\\thiri\\appdata\\local\\programs\\python\\python312\\lib\\site-packages (0.11.2)\n",
      "Requirement already satisfied: numpy>=1.15 in c:\\users\\thiri\\appdata\\local\\programs\\python\\python312\\lib\\site-packages (from seaborn==0.11.2) (1.26.2)\n",
      "Requirement already satisfied: scipy>=1.0 in c:\\users\\thiri\\appdata\\local\\programs\\python\\python312\\lib\\site-packages (from seaborn==0.11.2) (1.11.4)\n",
      "Requirement already satisfied: pandas>=0.23 in c:\\users\\thiri\\appdata\\local\\programs\\python\\python312\\lib\\site-packages (from seaborn==0.11.2) (2.1.3)\n",
      "Requirement already satisfied: matplotlib>=2.2 in c:\\users\\thiri\\appdata\\local\\programs\\python\\python312\\lib\\site-packages (from seaborn==0.11.2) (3.8.2)\n",
      "Requirement already satisfied: contourpy>=1.0.1 in c:\\users\\thiri\\appdata\\local\\programs\\python\\python312\\lib\\site-packages (from matplotlib>=2.2->seaborn==0.11.2) (1.2.0)\n",
      "Requirement already satisfied: cycler>=0.10 in c:\\users\\thiri\\appdata\\local\\programs\\python\\python312\\lib\\site-packages (from matplotlib>=2.2->seaborn==0.11.2) (0.12.1)\n",
      "Requirement already satisfied: fonttools>=4.22.0 in c:\\users\\thiri\\appdata\\local\\programs\\python\\python312\\lib\\site-packages (from matplotlib>=2.2->seaborn==0.11.2) (4.45.1)\n",
      "Requirement already satisfied: kiwisolver>=1.3.1 in c:\\users\\thiri\\appdata\\local\\programs\\python\\python312\\lib\\site-packages (from matplotlib>=2.2->seaborn==0.11.2) (1.4.5)\n",
      "Requirement already satisfied: packaging>=20.0 in c:\\users\\thiri\\appdata\\local\\programs\\python\\python312\\lib\\site-packages (from matplotlib>=2.2->seaborn==0.11.2) (23.2)\n",
      "Requirement already satisfied: pillow>=8 in c:\\users\\thiri\\appdata\\local\\programs\\python\\python312\\lib\\site-packages (from matplotlib>=2.2->seaborn==0.11.2) (10.1.0)\n",
      "Requirement already satisfied: pyparsing>=2.3.1 in c:\\users\\thiri\\appdata\\local\\programs\\python\\python312\\lib\\site-packages (from matplotlib>=2.2->seaborn==0.11.2) (3.1.1)\n",
      "Requirement already satisfied: python-dateutil>=2.7 in c:\\users\\thiri\\appdata\\local\\programs\\python\\python312\\lib\\site-packages (from matplotlib>=2.2->seaborn==0.11.2) (2.8.2)\n",
      "Requirement already satisfied: pytz>=2020.1 in c:\\users\\thiri\\appdata\\local\\programs\\python\\python312\\lib\\site-packages (from pandas>=0.23->seaborn==0.11.2) (2023.3.post1)\n",
      "Requirement already satisfied: tzdata>=2022.1 in c:\\users\\thiri\\appdata\\local\\programs\\python\\python312\\lib\\site-packages (from pandas>=0.23->seaborn==0.11.2) (2023.3)\n",
      "Requirement already satisfied: six>=1.5 in c:\\users\\thiri\\appdata\\local\\programs\\python\\python312\\lib\\site-packages (from python-dateutil>=2.7->matplotlib>=2.2->seaborn==0.11.2) (1.16.0)\n"
     ]
    },
    {
     "name": "stderr",
     "output_type": "stream",
     "text": [
      "\n",
      "[notice] A new release of pip is available: 24.0 -> 24.2\n",
      "[notice] To update, run: python.exe -m pip install --upgrade pip\n"
     ]
    }
   ],
   "source": [
    "# Libraries and Versions\n",
    "!pip install pandas==2.1.3\n",
    "!pip install scikit-learn==1.3.2\n",
    "!pip install matplotlib==3.8.2\n",
    "!pip install numpy==1.26.2\n",
    "!pip install seaborn==0.11.2"
   ]
  },
  {
   "cell_type": "code",
   "execution_count": 40,
   "id": "ee708d42-ffbd-4f5f-ae06-e2cec3f9137d",
   "metadata": {},
   "outputs": [
    {
     "name": "stdout",
     "output_type": "stream",
     "text": [
      "         Date    Campaign type  Impressions  Clicks    Cost  Conversions  \\\n",
      "0  2024-01-01    Cross-network     143669.0   896.0   656.3          6.5   \n",
      "1  2024-01-01  Display Network          3.0     0.0     0.0          0.0   \n",
      "2  2024-01-01   Search Network       3701.0   251.0   496.5          4.5   \n",
      "3  2024-01-01          YouTube      36211.0     8.0   115.2          0.0   \n",
      "4  2024-01-02    Cross-network     183496.0  1172.0  1525.0          8.8   \n",
      "\n",
      "   Revenue  \n",
      "0   1410.3  \n",
      "1      0.0  \n",
      "2    576.4  \n",
      "3      0.0  \n",
      "4   3565.7  \n"
     ]
    }
   ],
   "source": [
    "# Input Section\n",
    "new_budget = 200000  # Input new budget for allocation\n",
    "\n",
    "# Load datasets\n",
    "import pandas as pd\n",
    "\n",
    "# Load all 8 CSV datasets from the 'data' folder\n",
    "googleads_performance_1 = pd.read_csv('data/googleads-performance-1.csv')\n",
    "googleads_performance_2 = pd.read_csv('data/googleads-performance-2.csv')\n",
    "metaads_performance_1 = pd.read_csv('data/metaads-performance-1.csv')\n",
    "metaads_performance_2 = pd.read_csv('data/metaads-performance-2.csv')\n",
    "microsoftads_performance_1 = pd.read_csv('data/microsoftads-performance-1.csv')\n",
    "microsoftads_performance_2 = pd.read_csv('data/microsoftads-performance-2.csv')\n",
    "website_landings_1 = pd.read_csv('data/website-landings-1.csv')\n",
    "website_landings_2 = pd.read_csv('data/website-landings-2.csv')\n",
    "\n",
    "# Display the first few rows of one dataset as an example\n",
    "print(googleads_performance_1.head())"
   ]
  },
  {
   "cell_type": "markdown",
   "id": "87aa62f2-cbdc-4edf-867a-aeaae07f3034",
   "metadata": {},
   "source": [
    "# Approach and Methodology\n",
    "\n",
    "**Data Processing**:\n",
    "1. We performed data cleaning to remove missing or erroneous values.\n",
    "2. Merged datasets related to Google Ads, Meta Ads, and Microsoft Ads to form a unified dataset for analysis.\n",
    "3. Converted date columns to proper datetime formats and ensured numeric consistency in all columns.\n",
    "4. For each channel, calculated key metrics such as cost-per-click (CPC), cost-per-conversion, and return-on-ad-spend (ROAS).\n",
    "\n",
    "**Algorithm**:\n",
    "We utilized a Linear Regression model to predict the optimal budget allocation. The algorithm takes as input the current media spend and performance data (such as clicks, conversions, and revenue) and predicts the optimal budget distribution to maximize conversions and revenue. \n",
    "\n",
    "**Assumptions**:\n",
    "- The dataset is accurate and representative of future performance.\n",
    "- The revenue and conversion data are directly correlated with media spend.\n"
   ]
  },
  {
   "cell_type": "code",
   "execution_count": 41,
   "id": "69ba4dcf-4162-4118-abdb-2e303c74ecbf",
   "metadata": {},
   "outputs": [
    {
     "name": "stdout",
     "output_type": "stream",
     "text": [
      "Number of outliers: 46\n",
      "Cross-Validation MSE Scores: 6436710.9432847705\n",
      "Predicted Revenue for given inputs: [1154.92586402]\n",
      "Mean Squared Error: 22482494.70501073\n"
     ]
    }
   ],
   "source": [
    "# Algorithm Implementation\n",
    "\n",
    "# Combine Google, Meta, and Microsoft datasets\n",
    "combined_df = pd.concat([googleads_performance_1, googleads_performance_2, \n",
    "                         metaads_performance_1, metaads_performance_2,\n",
    "                         microsoftads_performance_1, microsoftads_performance_2], ignore_index=True)\n",
    "\n",
    "# Clean and preprocess data (handling missing values, date formats, etc.)\n",
    "combined_df['Date'] = pd.to_datetime(combined_df['Date'])\n",
    "combined_df.fillna(0, inplace=True)  # Replace NaNs with 0\n",
    "\n",
    "# Check for outliers (Optional Step)\n",
    "# Example: Using z-scores to identify potential outliers\n",
    "from scipy.stats import zscore\n",
    "combined_df['zscore'] = zscore(combined_df['Revenue'])\n",
    "outliers = combined_df[combined_df['zscore'].abs() > 3]  # Identifying outliers with z-score > 3\n",
    "print(f\"Number of outliers: {len(outliers)}\")\n",
    "\n",
    "# Feature enhancement (Optional Step)\n",
    "# You can try creating new features like 'Cost per Click' or 'Impressions per Click' to improve model performance\n",
    "combined_df['Cost_per_Click'] = combined_df['Cost'] / (combined_df['Clicks'] + 1)  # +1 to avoid division by zero\n",
    "\n",
    "# Select features (example features and target)\n",
    "features = ['Impressions', 'Clicks', 'Cost', 'Cost_per_Click']  # Enhanced feature set\n",
    "target = 'Revenue'\n",
    "\n",
    "# Split into training and testing sets\n",
    "from sklearn.model_selection import train_test_split\n",
    "\n",
    "X = combined_df[features]\n",
    "y = combined_df[target]\n",
    "\n",
    "X_train, X_test, y_train, y_test = train_test_split(X, y, test_size=0.2, random_state=42)\n",
    "\n",
    "# Apply Linear Regression model\n",
    "from sklearn.linear_model import LinearRegression\n",
    "model = LinearRegression()\n",
    "\n",
    "# Train the model\n",
    "model.fit(X_train, y_train)\n",
    "\n",
    "# Predict (ensuring that the input has proper feature names)\n",
    "predictions = model.predict(X_test)\n",
    "\n",
    "# Cross-Validation (optional)\n",
    "from sklearn.model_selection import cross_val_score\n",
    "cv_scores = cross_val_score(model, X_train, y_train, cv=5, scoring='neg_mean_squared_error')\n",
    "print(f\"Cross-Validation MSE Scores: {-cv_scores.mean()}\")\n",
    "\n",
    "# Example of making predictions with new input\n",
    "# Ensure the new input data has the same structure (columns) as the training data\n",
    "new_input = pd.DataFrame([[50000, 300, 200, 0.67]], columns=['Impressions', 'Clicks', 'Cost', 'Cost_per_Click'])\n",
    "predicted_revenue = model.predict(new_input)\n",
    "print(f\"Predicted Revenue for given inputs: {predicted_revenue}\")\n",
    "\n",
    "# Calculate mean squared error (as an example metric)\n",
    "from sklearn.metrics import mean_squared_error\n",
    "mse = mean_squared_error(y_test, predictions)\n",
    "print(f\"Mean Squared Error: {mse}\")\n",
    "\n",
    "# Optional: Suppress FutureWarnings from seaborn or other libraries\n",
    "import warnings\n",
    "warnings.simplefilter(action='ignore', category=FutureWarning)"
   ]
  },
  {
   "cell_type": "code",
   "execution_count": 42,
   "id": "47f4c706-cdca-4d7f-94a0-771865a1bfcf",
   "metadata": {},
   "outputs": [
    {
     "name": "stdout",
     "output_type": "stream",
     "text": [
      "Random Forest MSE: 5289353.250065874\n",
      "Gradient Boosting MSE: 5294598.834128008\n"
     ]
    },
    {
     "data": {
      "image/png": "[encoded data removed]",
      "text/plain": [
       "<Figure size 800x600 with 1 Axes>"
      ]
     },
     "metadata": {},
     "output_type": "display_data"
    }
   ],
   "source": [
    "# Model Comparison\n",
    "from sklearn.ensemble import RandomForestRegressor, GradientBoostingRegressor\n",
    "\n",
    "# Random Forest\n",
    "rf_model = RandomForestRegressor(random_state=42)\n",
    "rf_model.fit(X_train, y_train)\n",
    "rf_predictions = rf_model.predict(X_test)\n",
    "rf_mse = mean_squared_error(y_test, rf_predictions)\n",
    "print(f\"Random Forest MSE: {rf_mse}\")\n",
    "\n",
    "# Gradient Boosting\n",
    "gb_model = GradientBoostingRegressor(random_state=42)\n",
    "gb_model.fit(X_train, y_train)\n",
    "gb_predictions = gb_model.predict(X_test)\n",
    "gb_mse = mean_squared_error(y_test, gb_predictions)\n",
    "print(f\"Gradient Boosting MSE: {gb_mse}\")\n",
    "\n",
    "# Visualization: Enhanced Budget Allocation Plot\n",
    "import matplotlib.pyplot as plt\n",
    "import seaborn as sns\n",
    "\n",
    "# Define channels and example budget allocations\n",
    "channels = ['Facebook', 'Google Ads', 'Bing/Microsoft Ads']\n",
    "allocated_budget = [400, 300, 300]  \n",
    "\n",
    "plt.figure(figsize=(8, 6))\n",
    "sns.barplot(x=channels, y=allocated_budget, palette='muted')\n",
    "\n",
    "# Add title and labels with improved font size\n",
    "plt.title('Budget Allocation per Channel', fontsize=18)\n",
    "plt.ylabel('Allocated Budget (USD)', fontsize=14)\n",
    "plt.xlabel('Channel', fontsize=14)\n",
    "\n",
    "# Add data labels on top of each bar with conversion rate annotations\n",
    "conversion_rates = [0.05, 0.07, 0.04]  # Example conversion rates\n",
    "for i, (value, rate) in enumerate(zip(allocated_budget, conversion_rates)):\n",
    "    plt.text(i, value - 30, f'{value} USD\\n({rate*100:.1f}% CR)', ha='center', fontsize=12, va='top')\n",
    "\n",
    "# Show the plot\n",
    "plt.tight_layout()\n",
    "plt.show()"
   ]
  },
  {
   "cell_type": "markdown",
   "id": "a40bbd0f-e5f5-4157-a2aa-9e7647e651bd",
   "metadata": {},
   "source": [
    "## Conclusion\n",
    "\n",
    "The machine learning model provided an optimized budget allocation based on past performance data. The most effective channels were identified as Facebook and Google Ads. Future work could include:\n",
    "- Testing additional machine learning models (e.g., Random Forest, XGBoost).\n",
    "- Incorporating more granular features such as demographic data or time-of-day ad performance.\n",
    "- Evaluating the impact of external factors like seasonality.\n"
   ]
  }
 ],
 "metadata": {
  "kernelspec": {
   "display_name": "Python 3 (ipykernel)",
   "language": "python",
   "name": "python3"
  },
  "language_info": {
   "codemirror_mode": {
    "name": "ipython",
    "version": 3
   },
   "file_extension": ".py",
   "mimetype": "text/x-python",
   "name": "python",
   "nbconvert_exporter": "python",
   "pygments_lexer": "ipython3",
   "version": "3.12.1"
  }
 },
 "nbformat": 4,
 "nbformat_minor": 5
}
